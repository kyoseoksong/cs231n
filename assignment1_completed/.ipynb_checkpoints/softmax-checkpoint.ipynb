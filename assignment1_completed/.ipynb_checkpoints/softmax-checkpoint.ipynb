{
 "cells": [
  {
   "cell_type": "markdown",
   "metadata": {},
   "source": [
    "# Softmax exercise\n",
    "\n",
    "The intent of this ipynb is only to explain softmax loss gradient calculation. I am taking cs231 assignment code to  [cs231n assignment1](http://vision.stanford.edu/teaching/cs231n/assignments.html). \n",
    "\n",
    "In this exercise you will:\n",
    "\n",
    "- implement a fully-vectorized **loss function** for the Softmax classifier\n",
    "- implement the fully-vectorized expression for its **analytic gradient**\n",
    "- **check your implementation** with numerical gradient\n",
    "- use a validation set to **tune the learning rate and regularization** strength\n",
    "- **optimize** the loss function with **SGD**\n",
    "- **visualize** the final learned weights\n"
   ]
  },
  {
   "cell_type": "markdown",
   "metadata": {},
   "source": [
    "# 필요한 모듈을 import 하고 파라미터 설정을 해 준다"
   ]
  },
  {
   "cell_type": "code",
   "execution_count": 77,
   "metadata": {
    "collapsed": false
   },
   "outputs": [
    {
     "name": "stdout",
     "output_type": "stream",
     "text": [
      "The autoreload extension is already loaded. To reload it, use:\n",
      "  %reload_ext autoreload\n"
     ]
    }
   ],
   "source": [
    "import random\n",
    "import numpy as np\n",
    "from cs231n.data_utils import load_CIFAR10\n",
    "import matplotlib.pyplot as plt\n",
    "%matplotlib inline\n",
    "plt.rcParams['figure.figsize'] = (10.0, 8.0) # set default size of plots\n",
    "plt.rcParams['image.interpolation'] = 'nearest'\n",
    "plt.rcParams['image.cmap'] = 'gray'\n",
    "\n",
    "# for auto-reloading extenrnal modules\n",
    "# see http://stackoverflow.com/questions/1907993/autoreload-of-modules-in-ipython\n",
    "%load_ext autoreload\n",
    "%autoreload 2"
   ]
  },
  {
   "cell_type": "markdown",
   "metadata": {},
   "source": [
    "# CIFAR-10 데이터를 불러와서 preprocessing, normalization, bias 처리 해 준다"
   ]
  },
  {
   "cell_type": "code",
   "execution_count": 80,
   "metadata": {
    "collapsed": false,
    "scrolled": true
   },
   "outputs": [
    {
     "name": "stdout",
     "output_type": "stream",
     "text": [
      "Train data shape:  (49000, 3073)\n",
      "Train labels shape:  (49000,)\n",
      "Validation data shape:  (1000, 3073)\n",
      "Validation labels shape:  (1000,)\n",
      "Test data shape:  (1000, 3073)\n",
      "Test labels shape:  (1000,)\n",
      "dev data shape:  (500, 3073)\n",
      "dev labels shape:  (500,)\n"
     ]
    }
   ],
   "source": [
    "def get_CIFAR10_data(num_training=49000, num_validation=1000, num_test=1000, num_dev=500):\n",
    "  \"\"\"\n",
    "  Load the CIFAR-10 dataset from disk and perform preprocessing to prepare\n",
    "  it for the linear classifier. These are the same steps as we used for the\n",
    "  SVM, but condensed to a single function.  \n",
    "  \"\"\"\n",
    "  # Load the raw CIFAR-10 data\n",
    "  cifar10_dir = 'cs231n/datasets/cifar-10-batches-py'\n",
    "  X_train, y_train, X_test, y_test = load_CIFAR10(cifar10_dir) # (50000,32,32,3) (50000) (10000,32,32,3) (10000)\n",
    "  \n",
    "  # subsample the data\n",
    "    \n",
    "  mask = range(num_training, num_training + num_validation)\n",
    "  X_val = X_train[mask] # (1000,32,32,3)\n",
    "  y_val = y_train[mask] # (1000,)\n",
    "  \n",
    "  mask = range(num_training)\n",
    "  X_train = X_train[mask] # (49000, 32, 32, 3)\n",
    "  y_train = y_train[mask] # (49000,)\n",
    "  \n",
    "  mask = range(num_test)\n",
    "  X_test = X_test[mask] # (1000, 32, 32, 3)\n",
    "  y_test = y_test[mask] # (1000,)\n",
    "\n",
    "  mask = np.random.choice(num_training, num_dev, replace=False)\n",
    "  X_dev = X_train[mask] # (500,32,32,3)\n",
    "  y_dev = y_train[mask] # (500,)\n",
    "  \n",
    "  # Preprocessing: reshape the image data into rows\n",
    "  X_train = np.reshape(X_train, (X_train.shape[0], -1)) # (49000, 3072)\n",
    "  X_val = np.reshape(X_val, (X_val.shape[0], -1)) # (1000, 3072)\n",
    "  X_test = np.reshape(X_test, (X_test.shape[0], -1)) # (1000, 3072)\n",
    "  X_dev = np.reshape(X_dev, (X_dev.shape[0], -1)) # (500, 3072)\n",
    "  \n",
    "  # Normalize the data: subtract the mean image\n",
    "  mean_image = np.mean(X_train, axis = 0) # (3072,)\n",
    "  X_train -= mean_image # (49000,3072) - (3072,) = (49000,3072)\n",
    "  X_val -= mean_image # (1000,3072) - (3072,) = (1000,3072)\n",
    "  X_test -= mean_image # (1000,3072) - (3072,) = (1000,3072)\n",
    "  X_dev -= mean_image # (500,3072) - (3072,) = (500,3072)\n",
    "  \n",
    "  # add bias dimension and transform into columns\n",
    "  X_train = np.hstack([X_train, np.ones((X_train.shape[0], 1))]) # (49000, 3073) # X_train[0][3072] = 1.0\n",
    "  X_val = np.hstack([X_val, np.ones((X_val.shape[0], 1))]) # (1000, 3073)\n",
    "  X_test = np.hstack([X_test, np.ones((X_test.shape[0], 1))]) # (1000, 3073)\n",
    "  X_dev = np.hstack([X_dev, np.ones((X_dev.shape[0], 1))]) # (500, 3073)\n",
    "  \n",
    "  return X_train, y_train, X_val, y_val, X_test, y_test, X_dev, y_dev\n",
    "\n",
    "# Invoke the above function to get our data.\n",
    "X_train, y_train, X_val, y_val, X_test, y_test, X_dev, y_dev = get_CIFAR10_data()\n",
    "print 'Train data shape: ', X_train.shape\n",
    "print 'Train labels shape: ', y_train.shape\n",
    "print 'Validation data shape: ', X_val.shape\n",
    "print 'Validation labels shape: ', y_val.shape\n",
    "print 'Test data shape: ', X_test.shape\n",
    "print 'Test labels shape: ', y_test.shape\n",
    "print 'dev data shape: ', X_dev.shape\n",
    "print 'dev labels shape: ', y_dev.shape"
   ]
  },
  {
   "cell_type": "markdown",
   "metadata": {},
   "source": [
    "# Softmax gradient calculation"
   ]
  },
  {
   "cell_type": "markdown",
   "metadata": {},
   "source": [
    "## Sofmax score"
   ]
  },
  {
   "cell_type": "markdown",
   "metadata": {},
   "source": [
    "After multiplying input matrix X with weights matrix W we get class scores. Then we apply softmax function over it. Sofmax score function $p(z)$ takes a vector of arbitrary real-valued scores (e.g. predicted scores $z[]$) and squashes it to a vector of values between zero and one. "
   ]
  },
  {
   "cell_type": "markdown",
   "metadata": {},
   "source": [
    "$$ p_j(z) = \\frac { e^{z_j} } { \\sum_k {e^{z_k}} }  $$ "
   ]
  },
  {
   "cell_type": "markdown",
   "metadata": {},
   "source": [
    "Example,"
   ]
  },
  {
   "cell_type": "code",
   "execution_count": 95,
   "metadata": {
    "collapsed": false,
    "scrolled": true
   },
   "outputs": [
    {
     "name": "stdout",
     "output_type": "stream",
     "text": [
      "[[ 0.98670329  0.00664835  0.00664835]]\n"
     ]
    }
   ],
   "source": [
    "from cs231n.classifiers.softmax import softmax\n",
    "z = np.array([10.0,5.0,5.0])\n",
    "p = softmax(z)\n",
    "print p"
   ]
  },
  {
   "cell_type": "markdown",
   "metadata": {},
   "source": [
    "## Cross Entropy Loss"
   ]
  },
  {
   "cell_type": "markdown",
   "metadata": {},
   "source": [
    "The cross-entropy between a \"true\" distribution $p$ and an estimated distribution $q$ is defined as:"
   ]
  },
  {
   "cell_type": "markdown",
   "metadata": {},
   "source": [
    "$$ H(p,q) = -\\sum_x p(x) log( q(x) ) $$ "
   ]
  },
  {
   "cell_type": "markdown",
   "metadata": {},
   "source": [
    "The Softmax classifier is hence minimizing the cross-entropy between the estimated class probabilities $p(z)$ and the \"true\" distribution, which in this interpretation is the distribution where all probability mass is on the correct class (i.e. p=[0,…1,…,0]p=[0,…1,…,0] contains a single 1 at the $yi$-th position.). For simplicity, let's consider $Y$ as one-hot encoded labels for $y$"
   ]
  },
  {
   "cell_type": "markdown",
   "metadata": {},
   "source": [
    "$$L_i = -\\sum_j Y_j log( \\frac { e^{f_{j}} } { \\sum_k {e^{f_k}} } )$$"
   ]
  },
  {
   "cell_type": "markdown",
   "metadata": {},
   "source": [
    "$Y_j$ is zero except at position $y_i$ which represents true class label for $i$-th training input. So, our loss equation simplifies to: "
   ]
  },
  {
   "cell_type": "markdown",
   "metadata": {},
   "source": [
    "$$L_i = -log( \\frac { e^{f_{y_i}} } { \\sum_k {e^{f_k}} } )$$"
   ]
  },
  {
   "cell_type": "markdown",
   "metadata": {},
   "source": [
    "Simplifying further..."
   ]
  },
  {
   "cell_type": "markdown",
   "metadata": {},
   "source": [
    "$$L_i = -f_{y_i} + log(\\sum_k {e^{f_k}})$$"
   ]
  },
  {
   "cell_type": "markdown",
   "metadata": {},
   "source": [
    "$$L_i = -w_{y_i}x_i + log(\\sum_k {e^{w_k x_i}})$$"
   ]
  },
  {
   "cell_type": "markdown",
   "metadata": {},
   "source": [
    "## Gradient of the loss function"
   ]
  },
  {
   "cell_type": "markdown",
   "metadata": {},
   "source": [
    "$$\\frac{\\delta L_i}{\\delta w_j} = -\\frac{\\delta w_{y_i}} {\\delta w_j} x_i + \\frac {1} {\\sum_k {e^{w_k x_i}}} \\frac{\\delta \\sum_k e^{w_k x_i}}{\\delta w_j} $$"
   ]
  },
  {
   "cell_type": "markdown",
   "metadata": {},
   "source": [
    "Because $\\frac{\\delta e^{w_k}}{\\delta w_j} = 0 $; except when $k == j$. Applying chain rule leads to:"
   ]
  },
  {
   "cell_type": "markdown",
   "metadata": {},
   "source": [
    "$$\\frac{\\delta L_i}{\\delta w_j} = -\\frac{\\delta w_{y_i}} {\\delta w_j} x_i + \\frac {e^{w_j x_i}} {\\sum_k {e^{w_k x_i}}} x_i $$"
   ]
  },
  {
   "cell_type": "markdown",
   "metadata": {},
   "source": [
    "The term $\\frac {e^{w_j x_i}} {\\sum_k {e^{w_k x_i}}}$ is the softmax score for the class j which we already computed i.e. $p_j(z)$. In other words:"
   ]
  },
  {
   "cell_type": "markdown",
   "metadata": {},
   "source": [
    "$$\\frac{\\delta L_i}{\\delta w_j} = -\\frac{\\delta w_{y_i}} {\\delta w_j} x_i + f_j x_i $$"
   ]
  },
  {
   "cell_type": "markdown",
   "metadata": {},
   "source": [
    "\n",
    "\n",
    "$$\n",
    "\\begin{equation}\n",
    "\\begin{aligned}\n",
    "j == y_i \\implies \\frac{\\delta w_{y_i}} {\\delta w_j} = 1 \\\\\n",
    "j \\not= y_i \\implies \\frac{\\delta w_{y_i}} {\\delta w_j} = 0  \\\\\n",
    "\\end{aligned}\n",
    "\\end{equation}\n",
    "$$ "
   ]
  },
  {
   "cell_type": "markdown",
   "metadata": {
    "collapsed": true
   },
   "source": [
    "Our final gradient update becomes:\n",
    "~~~python \n",
    "dW[:,j] += (p[j] - (j==y[i]))*X[i,:] \n",
    "~~~\n"
   ]
  },
  {
   "cell_type": "markdown",
   "metadata": {},
   "source": [
    "## Softmax Classifier\n",
    "\n",
    "Your code for this section will all be written inside **cs231n/classifiers/softmax.py**. \n"
   ]
  },
  {
   "cell_type": "markdown",
   "metadata": {},
   "source": [
    "## Weight Initialization 하고 softmax_loss_naive 함수를 이용해 초기의 Loss 구하고 sanity check\n",
    "아직은 training data가 아니라 development data를 이용해서 실제로 softmax를 이용한 loss 구하고 sanity check 하는 단계이다"
   ]
  },
  {
   "cell_type": "code",
   "execution_count": 101,
   "metadata": {
    "collapsed": false
   },
   "outputs": [
    {
     "name": "stdout",
     "output_type": "stream",
     "text": [
      "loss: 2.379882\n",
      "sanity check: 2.302585\n"
     ]
    }
   ],
   "source": [
    "# First implement the naive softmax loss function with nested loops.\n",
    "# Open the file cs231n/classifiers/softmax.py and implement the\n",
    "# softmax_loss_naive function.\n",
    "\n",
    "from cs231n.classifiers.softmax import softmax_loss_naive\n",
    "import time\n",
    "\n",
    "# Generate a random softmax weight matrix and use it to compute the loss.\n",
    "W = np.random.randn(3073, 10) * 0.0001\n",
    "loss, grad = softmax_loss_naive(W, X_dev, y_dev, 0.0)\n",
    "\n",
    "# As a rough sanity check, our loss should be something close to -log(0.1).\n",
    "print 'loss: %f' % loss\n",
    "print 'sanity check: %f' % (-np.log(0.1)) # loss == log(# of classes) 2개의 결과가 거의 같아야 한다."
   ]
  },
  {
   "cell_type": "markdown",
   "metadata": {},
   "source": [
    "## Inline Question 1:\n",
    "Why do we expect our loss to be close to -log(0.1)? Explain briefly.**\n",
    "\n",
    "**Your answer:** *There are 10 classes, so with random weights we expect to get correct output with the probability of 0.1. We accumulate negative log loss of the incorrect class probability score, i.e., -log(0.1)*\n"
   ]
  },
  {
   "cell_type": "markdown",
   "metadata": {},
   "source": [
    "## 다시 한번 softmax_loss_naive 함수를 이용해 loss와 gradient를 구한 다음에 gradient check"
   ]
  },
  {
   "cell_type": "code",
   "execution_count": 102,
   "metadata": {
    "collapsed": false
   },
   "outputs": [
    {
     "name": "stdout",
     "output_type": "stream",
     "text": [
      "numerical: -0.243242 analytic: -0.243242, relative error: 6.020941e-08\n",
      "numerical: 1.135368 analytic: 1.135368, relative error: 1.927766e-08\n",
      "numerical: 0.782196 analytic: 0.782196, relative error: 8.894593e-08\n",
      "numerical: 2.635231 analytic: 2.635231, relative error: 1.760806e-08\n",
      "numerical: 2.153963 analytic: 2.153963, relative error: 2.627008e-08\n",
      "numerical: -6.592937 analytic: -6.592937, relative error: 2.761366e-09\n",
      "numerical: -2.561547 analytic: -2.561547, relative error: 6.375837e-09\n",
      "numerical: 2.363981 analytic: 2.363981, relative error: 2.039156e-08\n",
      "numerical: 1.365571 analytic: 1.365571, relative error: 2.727372e-08\n",
      "numerical: 2.970437 analytic: 2.970437, relative error: 4.169584e-08\n"
     ]
    }
   ],
   "source": [
    "# Complete the implementation of softmax_loss_naive and implement a (naive)\n",
    "# version of the gradient that uses nested loops.\n",
    "loss, grad = softmax_loss_naive(W, X_dev, y_dev, 0.0)\n",
    "\n",
    "# As we did for the SVM, use numeric gradient checking as a debugging tool.\n",
    "# The numeric gradient should be close to the analytic gradient.\n",
    "from cs231n.gradient_check import grad_check_sparse\n",
    "f = lambda w: softmax_loss_naive(w, X_dev, y_dev, 0.0)[0]\n",
    "grad_numerical = grad_check_sparse(f, W, grad, 10)"
   ]
  },
  {
   "cell_type": "markdown",
   "metadata": {},
   "source": [
    "## 이번에는 regularization 까지 포함된 loss와 gradient를 구한 다음에 gradient check"
   ]
  },
  {
   "cell_type": "code",
   "execution_count": 103,
   "metadata": {
    "collapsed": false
   },
   "outputs": [
    {
     "name": "stdout",
     "output_type": "stream",
     "text": [
      "numerical: 1.752811 analytic: 1.752811, relative error: 5.190023e-09\n",
      "numerical: 4.374247 analytic: 4.374247, relative error: 1.535986e-08\n",
      "numerical: -0.765966 analytic: -0.765966, relative error: 2.039100e-08\n",
      "numerical: 4.116887 analytic: 4.116887, relative error: 1.626840e-08\n",
      "numerical: -1.292958 analytic: -1.292958, relative error: 3.570521e-08\n",
      "numerical: -3.165935 analytic: -3.165935, relative error: 1.037555e-09\n",
      "numerical: 1.892414 analytic: 1.892414, relative error: 1.744858e-08\n",
      "numerical: 0.026034 analytic: 0.026034, relative error: 3.079252e-06\n",
      "numerical: -0.159509 analytic: -0.159509, relative error: 4.401772e-07\n",
      "numerical: 1.065854 analytic: 1.065853, relative error: 6.634249e-08\n"
     ]
    }
   ],
   "source": [
    "# similar to SVM case, do another gradient check with regularization\n",
    "loss, grad = softmax_loss_naive(W, X_dev, y_dev, 1e2)\n",
    "f = lambda w: softmax_loss_naive(w, X_dev, y_dev, 1e2)[0]\n",
    "grad_numerical = grad_check_sparse(f, W, grad, 10)"
   ]
  },
  {
   "cell_type": "markdown",
   "metadata": {},
   "source": [
    "## softmax_loss_naive 와 softmax_loss_vectorized 비교 - 소요시간과 loss, gradient 차이 비교"
   ]
  },
  {
   "cell_type": "code",
   "execution_count": 104,
   "metadata": {
    "collapsed": false
   },
   "outputs": [
    {
     "name": "stdout",
     "output_type": "stream",
     "text": [
      "naive loss: 2.379882e+00 computed in 0.182193s\n",
      "vectorized loss: 2.379882e+00 computed in 0.010686s\n",
      "Loss difference: 0.000000\n",
      "Gradient difference: 0.000000\n"
     ]
    }
   ],
   "source": [
    "# Now that we have a naive implementation of the softmax loss function and its gradient,\n",
    "# implement a vectorized version in softmax_loss_vectorized.\n",
    "# The two versions should compute the same results, but the vectorized version should be\n",
    "# much faster.\n",
    "tic = time.time()\n",
    "loss_naive, grad_naive = softmax_loss_naive(W, X_dev, y_dev, 0.00001)\n",
    "toc = time.time()\n",
    "print 'naive loss: %e computed in %fs' % (loss_naive, toc - tic)\n",
    "\n",
    "from cs231n.classifiers.softmax import softmax_loss_vectorized\n",
    "tic = time.time()\n",
    "loss_vectorized, grad_vectorized = softmax_loss_vectorized(W, X_dev, y_dev, 0.00001)\n",
    "toc = time.time()\n",
    "print 'vectorized loss: %e computed in %fs' % (loss_vectorized, toc - tic)\n",
    "\n",
    "# As we did for the SVM, we use the Frobenius norm to compare the two versions\n",
    "# of the gradient.\n",
    "grad_difference = np.linalg.norm(grad_naive - grad_vectorized, ord='fro') # grad는 matrix 이므로 이렇게 비교\n",
    "print 'Loss difference: %f' % np.abs(loss_naive - loss_vectorized) # loss 는 scalar 이므로 이렇게 비교\n",
    "print 'Gradient difference: %f' % grad_difference"
   ]
  },
  {
   "cell_type": "markdown",
   "metadata": {},
   "source": [
    "## Validation set을 이용해서 Hyperparameter (regularization과 learning rate) 를 튜닝한다\n",
    "\n",
    "이제 최적의 regularization과 learning rate를 찾기 위해 실제로 training data를 이용해 training accuracy와 validation accuracy를 구해 본다.\n",
    "\n",
    "(test accuracy는 아직이다)\n",
    "\n",
    "각각 다른 learning rate와 regularization에 대해 다음 작업을 300회만 반복한다.\n",
    "* 실제 training data를 이용해 학습시키면서 loss를 구한다.\n",
    "* training accuracy와 validation accuracy를 구한다\n",
    "\n",
    "이를 통해 validation accuracy가 가장 높은 learning rate와 regularization을 구한다."
   ]
  },
  {
   "cell_type": "code",
   "execution_count": 75,
   "metadata": {
    "collapsed": false
   },
   "outputs": [
    {
     "name": "stdout",
     "output_type": "stream",
     "text": [
      "\n",
      "learning rate =  1e-07 reg =  50000.0\n",
      "iteration 0 / 300: loss 765.558453\n",
      "iteration 100 / 300: loss 280.906751\n",
      "iteration 200 / 300: loss 103.913962\n",
      "\n",
      "learning rate =  1e-07 reg =  100000000.0\n",
      "iteration 0 / 300: loss 1547605.415269\n",
      "iteration 100 / 300: loss inf\n",
      "iteration 200 / 300: loss inf\n",
      "\n",
      "learning rate =  5e-07 reg =  50000.0\n",
      "iteration 0 / 300: loss 777.491221\n",
      "iteration 100 / 300: loss 6.888827\n",
      "iteration 200 / 300: loss 2.100422\n",
      "\n",
      "learning rate =  5e-07 reg =  100000000.0\n",
      "iteration 0 / 300: loss 1550226.222147\n",
      "iteration 100 / 300: loss inf\n",
      "iteration 200 / 300: loss nan\n",
      "\n",
      "lr 1.000000e-07 reg 5.000000e+04 train accuracy: 0.244959 val accuracy: 0.239000\n",
      "lr 1.000000e-07 reg 1.000000e+08 train accuracy: 0.129082 val accuracy: 0.115000\n",
      "lr 5.000000e-07 reg 5.000000e+04 train accuracy: 0.319061 val accuracy: 0.334000\n",
      "lr 5.000000e-07 reg 1.000000e+08 train accuracy: 0.100265 val accuracy: 0.087000\n",
      "\n",
      "best validation accuracy achieved during cross-validation: 0.334000\n"
     ]
    }
   ],
   "source": [
    "# Use the validation set to tune hyperparameters (regularization strength and\n",
    "# learning rate). You should experiment with different ranges for the learning\n",
    "# rates and regularization strengths; if you are careful you should be able to\n",
    "# get a classification accuracy of over 0.35 on the validation set.\n",
    "from cs231n.classifiers import Softmax # 대문자임에 유의! linear_classifier.py\n",
    "\n",
    "learning_rates = [1e-7, 5e-7]\n",
    "regularization_strengths = [5e4, 1e8]\n",
    "\n",
    "results = {} # key는 (learning_rate, reg), value는 (train_accuracy, valid_accuracy)\n",
    "\n",
    "best_val = -1 # best validation accuracy 저장\n",
    "best_softmax = None # best softmax 모델 저장\n",
    "best_learning_rate = None # best learning rate 저장\n",
    "best_reg  = None # best regularization 저장\n",
    "\n",
    "################################################################################\n",
    "# TODO:                                                                        #\n",
    "# Use the validation set to set the learning rate and regularization strength. #\n",
    "# This should be identical to the validation that you did for the SVM; save    #\n",
    "# the best trained softmax classifer in best_softmax.                          #\n",
    "################################################################################\n",
    "for learning_rate in learning_rates: # 2 loops [1e-7, 5e-7]\n",
    "     for reg in regularization_strengths: # 2 loops [5e4, 1e8] \n",
    "        print\n",
    "        print \"learning rate = \", learning_rate, \"reg = \", reg\n",
    "        softmax_ = Softmax()\n",
    "        loss = softmax_.train(X_train, y_train, learning_rate=learning_rate, reg=reg,\n",
    "                      num_iters=300, verbose=True) # loss는 300개의 loss_history 를 담은 list # len(loss) = 300\n",
    "\n",
    "        y_train_pred = softmax_.predict(X_train) # (49000,)\n",
    "        train_accuracy = (np.mean(y_train == y_train_pred))\n",
    "        \n",
    "        y_val_pred = softmax_.predict(X_val) # (1000,)\n",
    "        valid_accuracy = (np.mean(y_val == y_val_pred))\n",
    "        \n",
    "        results[(learning_rate, reg)] = (train_accuracy, valid_accuracy)\n",
    "        \n",
    "        if best_val == -1 or valid_accuracy > best_val:\n",
    "            best_val = valid_accuracy\n",
    "            best_softmax = softmax_\n",
    "            best_learning_rate = learning_rate\n",
    "            best_reg = reg\n",
    "################################################################################\n",
    "#                              END OF YOUR CODE                                #\n",
    "################################################################################\n",
    "    \n",
    "# Print out results.\n",
    "print\n",
    "for lr, reg in sorted(results): # sorting의 기준은 lr, reg 순서???\n",
    "    train_accuracy, val_accuracy = results[(lr, reg)]\n",
    "    print 'lr %e reg %e train accuracy: %f val accuracy: %f' % (\n",
    "                lr, reg, train_accuracy, val_accuracy)\n",
    "    \n",
    "print\n",
    "print 'best validation accuracy achieved during cross-validation: %f' % best_val"
   ]
  },
  {
   "cell_type": "markdown",
   "metadata": {},
   "source": [
    "## 위에서 구한 최적의 regularization과 learning rate 를 이용해 본격적으로 학습시킨다\n",
    "\n",
    "10,000회 학습을 통해 loss를 최소화하는 모델을 도출한다."
   ]
  },
  {
   "cell_type": "code",
   "execution_count": 107,
   "metadata": {
    "collapsed": false
   },
   "outputs": [
    {
     "name": "stdout",
     "output_type": "stream",
     "text": [
      "iteration 0 / 10000: loss 764.759297\n",
      "iteration 100 / 10000: loss 6.880296\n",
      "iteration 200 / 10000: loss 2.139003\n",
      "iteration 300 / 10000: loss 2.131524\n",
      "iteration 400 / 10000: loss 2.097775\n",
      "iteration 500 / 10000: loss 2.038996\n",
      "iteration 600 / 10000: loss 2.071935\n",
      "iteration 700 / 10000: loss 2.138959\n",
      "iteration 800 / 10000: loss 2.030946\n",
      "iteration 900 / 10000: loss 2.046500\n",
      "iteration 1000 / 10000: loss 2.081396\n",
      "iteration 1100 / 10000: loss 2.107182\n",
      "iteration 1200 / 10000: loss 2.059976\n",
      "iteration 1300 / 10000: loss 2.107473\n",
      "iteration 1400 / 10000: loss 2.157871\n",
      "iteration 1500 / 10000: loss 2.098482\n",
      "iteration 1600 / 10000: loss 2.078595\n",
      "iteration 1700 / 10000: loss 2.085505\n",
      "iteration 1800 / 10000: loss 2.059444\n",
      "iteration 1900 / 10000: loss 2.077128\n",
      "iteration 2000 / 10000: loss 2.122319\n",
      "iteration 2100 / 10000: loss 2.122413\n",
      "iteration 2200 / 10000: loss 2.105511\n",
      "iteration 2300 / 10000: loss 2.112488\n",
      "iteration 2400 / 10000: loss 2.085627\n",
      "iteration 2500 / 10000: loss 2.149098\n",
      "iteration 2600 / 10000: loss 2.129700\n",
      "iteration 2700 / 10000: loss 2.085167\n",
      "iteration 2800 / 10000: loss 2.163592\n",
      "iteration 2900 / 10000: loss 2.124430\n",
      "iteration 3000 / 10000: loss 2.048164\n",
      "iteration 3100 / 10000: loss 2.111972\n",
      "iteration 3200 / 10000: loss 2.092483\n",
      "iteration 3300 / 10000: loss 2.081841\n",
      "iteration 3400 / 10000: loss 2.089101\n",
      "iteration 3500 / 10000: loss 2.078521\n",
      "iteration 3600 / 10000: loss 2.087432\n",
      "iteration 3700 / 10000: loss 2.117639\n",
      "iteration 3800 / 10000: loss 2.092078\n",
      "iteration 3900 / 10000: loss 2.138634\n",
      "iteration 4000 / 10000: loss 2.049261\n",
      "iteration 4100 / 10000: loss 2.067469\n",
      "iteration 4200 / 10000: loss 2.062740\n",
      "iteration 4300 / 10000: loss 2.085558\n",
      "iteration 4400 / 10000: loss 2.144844\n",
      "iteration 4500 / 10000: loss 2.086939\n",
      "iteration 4600 / 10000: loss 2.127162\n",
      "iteration 4700 / 10000: loss 2.132959\n",
      "iteration 4800 / 10000: loss 2.121298\n",
      "iteration 4900 / 10000: loss 2.067773\n",
      "iteration 5000 / 10000: loss 2.145855\n",
      "iteration 5100 / 10000: loss 2.030700\n",
      "iteration 5200 / 10000: loss 2.092919\n",
      "iteration 5300 / 10000: loss 2.097032\n",
      "iteration 5400 / 10000: loss 2.071731\n",
      "iteration 5500 / 10000: loss 2.122296\n",
      "iteration 5600 / 10000: loss 2.077141\n",
      "iteration 5700 / 10000: loss 2.071173\n",
      "iteration 5800 / 10000: loss 2.092144\n",
      "iteration 5900 / 10000: loss 2.119524\n",
      "iteration 6000 / 10000: loss 2.101617\n",
      "iteration 6100 / 10000: loss 2.093926\n",
      "iteration 6200 / 10000: loss 2.135263\n",
      "iteration 6300 / 10000: loss 2.084204\n",
      "iteration 6400 / 10000: loss 2.082708\n",
      "iteration 6500 / 10000: loss 2.153930\n",
      "iteration 6600 / 10000: loss 2.088976\n",
      "iteration 6700 / 10000: loss 2.092880\n",
      "iteration 6800 / 10000: loss 2.135230\n",
      "iteration 6900 / 10000: loss 2.047145\n",
      "iteration 7000 / 10000: loss 2.132084\n",
      "iteration 7100 / 10000: loss 2.082819\n",
      "iteration 7200 / 10000: loss 2.044328\n",
      "iteration 7300 / 10000: loss 2.126612\n",
      "iteration 7400 / 10000: loss 2.039425\n",
      "iteration 7500 / 10000: loss 2.071010\n",
      "iteration 7600 / 10000: loss 2.093400\n",
      "iteration 7700 / 10000: loss 2.104262\n",
      "iteration 7800 / 10000: loss 2.098520\n",
      "iteration 7900 / 10000: loss 2.077631\n",
      "iteration 8000 / 10000: loss 2.089128\n",
      "iteration 8100 / 10000: loss 2.128590\n",
      "iteration 8200 / 10000: loss 2.081543\n",
      "iteration 8300 / 10000: loss 2.137210\n",
      "iteration 8400 / 10000: loss 2.084792\n",
      "iteration 8500 / 10000: loss 2.113944\n",
      "iteration 8600 / 10000: loss 2.050767\n",
      "iteration 8700 / 10000: loss 2.112526\n",
      "iteration 8800 / 10000: loss 2.131997\n",
      "iteration 8900 / 10000: loss 2.086537\n",
      "iteration 9000 / 10000: loss 2.047462\n",
      "iteration 9100 / 10000: loss 2.130267\n",
      "iteration 9200 / 10000: loss 2.039519\n",
      "iteration 9300 / 10000: loss 2.054670\n",
      "iteration 9400 / 10000: loss 2.112971\n",
      "iteration 9500 / 10000: loss 2.072969\n",
      "iteration 9600 / 10000: loss 2.103778\n",
      "iteration 9700 / 10000: loss 2.108634\n",
      "iteration 9800 / 10000: loss 2.094612\n",
      "iteration 9900 / 10000: loss 2.045249\n"
     ]
    }
   ],
   "source": [
    "# let's train more with the best learning rate and regularization setting\n",
    "softmax_ = Softmax()\n",
    "loss = softmax_.train(X_train, y_train, learning_rate=best_learning_rate, reg=best_reg,\n",
    "                      num_iters=10000, verbose=True) # len(loss) = 10000 (loss는 list)\n",
    "best_softmax = softmax_"
   ]
  },
  {
   "cell_type": "markdown",
   "metadata": {},
   "source": [
    "## Test set accuracy를 구해 본다"
   ]
  },
  {
   "cell_type": "code",
   "execution_count": 14,
   "metadata": {
    "collapsed": false
   },
   "outputs": [
    {
     "name": "stdout",
     "output_type": "stream",
     "text": [
      "softmax on raw pixels final test set accuracy: 0.333000\n"
     ]
    }
   ],
   "source": [
    "# evaluate on test set\n",
    "# Evaluate the best softmax on test set\n",
    "y_test_pred = best_softmax.predict(X_test)\n",
    "test_accuracy = np.mean(y_test == y_test_pred)\n",
    "print 'softmax on raw pixels final test set accuracy: %f' % (test_accuracy, )"
   ]
  },
  {
   "cell_type": "markdown",
   "metadata": {},
   "source": [
    "## 각각의 클래스에 대해 학습된 weight를 시각화해 본다"
   ]
  },
  {
   "cell_type": "code",
   "execution_count": 117,
   "metadata": {
    "collapsed": false
   },
   "outputs": [
    {
     "data": {
      "image/png": "[encoded data removed]",
      "text/plain": [
       "<matplotlib.figure.Figure at 0x1115a3c50>"
      ]
     },
     "metadata": {},
     "output_type": "display_data"
    }
   ],
   "source": [
    "# Visualize the learned weights for each class\n",
    "w = best_softmax.W[:-1,:] # strip out the bias # (3072, 10)\n",
    "w = w.reshape(32, 32, 3, 10) # (32, 32, 3, 10)\n",
    "\n",
    "w_min, w_max = np.min(w), np.max(w) # ex) w_min = -3.85254101895e-05, w_max = 4.39559444241e-05\n",
    "\n",
    "classes = ['plane', 'car', 'bird', 'cat', 'deer', 'dog', 'frog', 'horse', 'ship', 'truck']\n",
    "for i in xrange(10):\n",
    "  plt.subplot(2, 5, i + 1)\n",
    "  \n",
    "  # Rescale the weights to be between 0 and 255\n",
    "  # Normalization by Scaling Between 0 and 1 를 이용\n",
    "  # https://docs.tibco.com/pub/spotfire/7.0.0/doc/html/norm/norm_scale_between_0_and_1.htm\n",
    "  wimg = 255.0 * (w[:, :, :, i].squeeze() - w_min) / (w_max - w_min) # (32, 32, 3) float between 0 and 255\n",
    "  # numpy.squeeze() : Remove single-dimensional entries from the shape of an array.\n",
    "  # https://docs.scipy.org/doc/numpy/reference/generated/numpy.squeeze.html#numpy.squeeze\n",
    "  # 굳이 numpy.squeeze()를 쓰는 이유를 모르겠다. 아래와 같이 해도 동일한 결과가 나온다.   \n",
    "  # wimg = 255.0 * (w[:, :, :, i] - w_min) / (w_max - w_min) # (32, 32, 3) float between 0 and 255\n",
    "\n",
    "  plt.imshow(wimg.astype('uint8'))\n",
    "  plt.axis('off')\n",
    "  plt.title(classes[i])"
   ]
  },
  {
   "cell_type": "code",
   "execution_count": null,
   "metadata": {
    "collapsed": true
   },
   "outputs": [],
   "source": []
  }
 ],
 "metadata": {
  "kernelspec": {
   "display_name": "Python 2",
   "language": "python",
   "name": "python2"
  },
  "language_info": {
   "codemirror_mode": {
    "name": "ipython",
    "version": 2
   },
   "file_extension": ".py",
   "mimetype": "text/x-python",
   "name": "python",
   "nbconvert_exporter": "python",
   "pygments_lexer": "ipython2",
   "version": "2.7.10"
  }
 },
 "nbformat": 4,
 "nbformat_minor": 0
}
